{
  "nbformat": 4,
  "nbformat_minor": 0,
  "metadata": {
    "colab": {
      "provenance": [],
      "toc_visible": true
    },
    "kernelspec": {
      "name": "python3",
      "display_name": "Python 3"
    },
    "language_info": {
      "name": "python"
    }
  },
  "cells": [
    {
      "cell_type": "code",
      "source": [
        "# Analisis oleh Dinmar Pratama\n",
        "# Github: https://github.com/dinmar9212\n",
        "# LinkedIn: https://www.linkedin.com/in/dinmar-pratama-2516b8224/"
      ],
      "metadata": {
        "id": "6PVEMt3SXacE"
      },
      "execution_count": null,
      "outputs": []
    },
    {
      "cell_type": "markdown",
      "source": [
        "# Import Library"
      ],
      "metadata": {
        "id": "JUpejWUYMldc"
      }
    },
    {
      "cell_type": "code",
      "source": [
        "import pandas as pd\n",
        "import numpy as np\n",
        "import matplotlib.pyplot as plt\n",
        "import seaborn as sns\n",
        "from scipy import stats\n",
        "from scipy.stats import f_oneway, kruskal\n",
        "from statsmodels.stats.proportion import proportions_ztest"
      ],
      "metadata": {
        "id": "PnRbqkWsMpHY"
      },
      "execution_count": 70,
      "outputs": []
    },
    {
      "cell_type": "markdown",
      "source": [
        "# Memuat Data"
      ],
      "metadata": {
        "id": "4vuEIhyMMtcd"
      }
    },
    {
      "cell_type": "code",
      "source": [
        "# 1. Memuat Data\n",
        "# Keterangan: Membaca data dari file CSV dan menyimpannya ke dalam DataFrame\n",
        "file_csv = \"survey_purwadhika.csv\"\n",
        "df = pd.read_csv(file_csv)\n",
        "df.head()\n",
        "# Pastikan file CSV berada di direktori yang sama atau sesuaikan path-nya."
      ],
      "metadata": {
        "colab": {
          "base_uri": "https://localhost:8080/",
          "height": 206
        },
        "id": "3QkyJFPqMvEO",
        "outputId": "80672279-e027-4607-c9c9-22cf7bf0d0a9"
      },
      "execution_count": 74,
      "outputs": [
        {
          "output_type": "execute_result",
          "data": {
            "text/plain": [
              "   ID  Umur  Asal_Daerah Pendidikan Informasi_Purwadhika  Tingkat_Kemampuan  \\\n",
              "0   1    26  Jawa Tengah         S1            Instagram                  2   \n",
              "1   2    23   Yogyakarta         S1                Teman                  3   \n",
              "2   3    30  Jawa Tengah         S1              Lainnya                  2   \n",
              "3   4    27         Bali         S1                Teman                  3   \n",
              "4   5    24  Jawa Tengah         S1              Lainnya                  1   \n",
              "\n",
              "  kelas  Pengeluaran_Bulanan gender  \n",
              "0    DM              1200000   Pria  \n",
              "1    WD              2000000   Pria  \n",
              "2    DM              1600000   Pria  \n",
              "3    DM              1100000   Pria  \n",
              "4    WD              1200000   Pria  "
            ],
            "text/html": [
              "\n",
              "  <div id=\"df-61399908-b724-4f0c-b5ab-d0b1200f1e08\" class=\"colab-df-container\">\n",
              "    <div>\n",
              "<style scoped>\n",
              "    .dataframe tbody tr th:only-of-type {\n",
              "        vertical-align: middle;\n",
              "    }\n",
              "\n",
              "    .dataframe tbody tr th {\n",
              "        vertical-align: top;\n",
              "    }\n",
              "\n",
              "    .dataframe thead th {\n",
              "        text-align: right;\n",
              "    }\n",
              "</style>\n",
              "<table border=\"1\" class=\"dataframe\">\n",
              "  <thead>\n",
              "    <tr style=\"text-align: right;\">\n",
              "      <th></th>\n",
              "      <th>ID</th>\n",
              "      <th>Umur</th>\n",
              "      <th>Asal_Daerah</th>\n",
              "      <th>Pendidikan</th>\n",
              "      <th>Informasi_Purwadhika</th>\n",
              "      <th>Tingkat_Kemampuan</th>\n",
              "      <th>kelas</th>\n",
              "      <th>Pengeluaran_Bulanan</th>\n",
              "      <th>gender</th>\n",
              "    </tr>\n",
              "  </thead>\n",
              "  <tbody>\n",
              "    <tr>\n",
              "      <th>0</th>\n",
              "      <td>1</td>\n",
              "      <td>26</td>\n",
              "      <td>Jawa Tengah</td>\n",
              "      <td>S1</td>\n",
              "      <td>Instagram</td>\n",
              "      <td>2</td>\n",
              "      <td>DM</td>\n",
              "      <td>1200000</td>\n",
              "      <td>Pria</td>\n",
              "    </tr>\n",
              "    <tr>\n",
              "      <th>1</th>\n",
              "      <td>2</td>\n",
              "      <td>23</td>\n",
              "      <td>Yogyakarta</td>\n",
              "      <td>S1</td>\n",
              "      <td>Teman</td>\n",
              "      <td>3</td>\n",
              "      <td>WD</td>\n",
              "      <td>2000000</td>\n",
              "      <td>Pria</td>\n",
              "    </tr>\n",
              "    <tr>\n",
              "      <th>2</th>\n",
              "      <td>3</td>\n",
              "      <td>30</td>\n",
              "      <td>Jawa Tengah</td>\n",
              "      <td>S1</td>\n",
              "      <td>Lainnya</td>\n",
              "      <td>2</td>\n",
              "      <td>DM</td>\n",
              "      <td>1600000</td>\n",
              "      <td>Pria</td>\n",
              "    </tr>\n",
              "    <tr>\n",
              "      <th>3</th>\n",
              "      <td>4</td>\n",
              "      <td>27</td>\n",
              "      <td>Bali</td>\n",
              "      <td>S1</td>\n",
              "      <td>Teman</td>\n",
              "      <td>3</td>\n",
              "      <td>DM</td>\n",
              "      <td>1100000</td>\n",
              "      <td>Pria</td>\n",
              "    </tr>\n",
              "    <tr>\n",
              "      <th>4</th>\n",
              "      <td>5</td>\n",
              "      <td>24</td>\n",
              "      <td>Jawa Tengah</td>\n",
              "      <td>S1</td>\n",
              "      <td>Lainnya</td>\n",
              "      <td>1</td>\n",
              "      <td>WD</td>\n",
              "      <td>1200000</td>\n",
              "      <td>Pria</td>\n",
              "    </tr>\n",
              "  </tbody>\n",
              "</table>\n",
              "</div>\n",
              "    <div class=\"colab-df-buttons\">\n",
              "\n",
              "  <div class=\"colab-df-container\">\n",
              "    <button class=\"colab-df-convert\" onclick=\"convertToInteractive('df-61399908-b724-4f0c-b5ab-d0b1200f1e08')\"\n",
              "            title=\"Convert this dataframe to an interactive table.\"\n",
              "            style=\"display:none;\">\n",
              "\n",
              "  <svg xmlns=\"http://www.w3.org/2000/svg\" height=\"24px\" viewBox=\"0 -960 960 960\">\n",
              "    <path d=\"M120-120v-720h720v720H120Zm60-500h600v-160H180v160Zm220 220h160v-160H400v160Zm0 220h160v-160H400v160ZM180-400h160v-160H180v160Zm440 0h160v-160H620v160ZM180-180h160v-160H180v160Zm440 0h160v-160H620v160Z\"/>\n",
              "  </svg>\n",
              "    </button>\n",
              "\n",
              "  <style>\n",
              "    .colab-df-container {\n",
              "      display:flex;\n",
              "      gap: 12px;\n",
              "    }\n",
              "\n",
              "    .colab-df-convert {\n",
              "      background-color: #E8F0FE;\n",
              "      border: none;\n",
              "      border-radius: 50%;\n",
              "      cursor: pointer;\n",
              "      display: none;\n",
              "      fill: #1967D2;\n",
              "      height: 32px;\n",
              "      padding: 0 0 0 0;\n",
              "      width: 32px;\n",
              "    }\n",
              "\n",
              "    .colab-df-convert:hover {\n",
              "      background-color: #E2EBFA;\n",
              "      box-shadow: 0px 1px 2px rgba(60, 64, 67, 0.3), 0px 1px 3px 1px rgba(60, 64, 67, 0.15);\n",
              "      fill: #174EA6;\n",
              "    }\n",
              "\n",
              "    .colab-df-buttons div {\n",
              "      margin-bottom: 4px;\n",
              "    }\n",
              "\n",
              "    [theme=dark] .colab-df-convert {\n",
              "      background-color: #3B4455;\n",
              "      fill: #D2E3FC;\n",
              "    }\n",
              "\n",
              "    [theme=dark] .colab-df-convert:hover {\n",
              "      background-color: #434B5C;\n",
              "      box-shadow: 0px 1px 3px 1px rgba(0, 0, 0, 0.15);\n",
              "      filter: drop-shadow(0px 1px 2px rgba(0, 0, 0, 0.3));\n",
              "      fill: #FFFFFF;\n",
              "    }\n",
              "  </style>\n",
              "\n",
              "    <script>\n",
              "      const buttonEl =\n",
              "        document.querySelector('#df-61399908-b724-4f0c-b5ab-d0b1200f1e08 button.colab-df-convert');\n",
              "      buttonEl.style.display =\n",
              "        google.colab.kernel.accessAllowed ? 'block' : 'none';\n",
              "\n",
              "      async function convertToInteractive(key) {\n",
              "        const element = document.querySelector('#df-61399908-b724-4f0c-b5ab-d0b1200f1e08');\n",
              "        const dataTable =\n",
              "          await google.colab.kernel.invokeFunction('convertToInteractive',\n",
              "                                                    [key], {});\n",
              "        if (!dataTable) return;\n",
              "\n",
              "        const docLinkHtml = 'Like what you see? Visit the ' +\n",
              "          '<a target=\"_blank\" href=https://colab.research.google.com/notebooks/data_table.ipynb>data table notebook</a>'\n",
              "          + ' to learn more about interactive tables.';\n",
              "        element.innerHTML = '';\n",
              "        dataTable['output_type'] = 'display_data';\n",
              "        await google.colab.output.renderOutput(dataTable, element);\n",
              "        const docLink = document.createElement('div');\n",
              "        docLink.innerHTML = docLinkHtml;\n",
              "        element.appendChild(docLink);\n",
              "      }\n",
              "    </script>\n",
              "  </div>\n",
              "\n",
              "\n",
              "<div id=\"df-0a685057-6aef-454d-8bef-2afac768ea1c\">\n",
              "  <button class=\"colab-df-quickchart\" onclick=\"quickchart('df-0a685057-6aef-454d-8bef-2afac768ea1c')\"\n",
              "            title=\"Suggest charts\"\n",
              "            style=\"display:none;\">\n",
              "\n",
              "<svg xmlns=\"http://www.w3.org/2000/svg\" height=\"24px\"viewBox=\"0 0 24 24\"\n",
              "     width=\"24px\">\n",
              "    <g>\n",
              "        <path d=\"M19 3H5c-1.1 0-2 .9-2 2v14c0 1.1.9 2 2 2h14c1.1 0 2-.9 2-2V5c0-1.1-.9-2-2-2zM9 17H7v-7h2v7zm4 0h-2V7h2v10zm4 0h-2v-4h2v4z\"/>\n",
              "    </g>\n",
              "</svg>\n",
              "  </button>\n",
              "\n",
              "<style>\n",
              "  .colab-df-quickchart {\n",
              "      --bg-color: #E8F0FE;\n",
              "      --fill-color: #1967D2;\n",
              "      --hover-bg-color: #E2EBFA;\n",
              "      --hover-fill-color: #174EA6;\n",
              "      --disabled-fill-color: #AAA;\n",
              "      --disabled-bg-color: #DDD;\n",
              "  }\n",
              "\n",
              "  [theme=dark] .colab-df-quickchart {\n",
              "      --bg-color: #3B4455;\n",
              "      --fill-color: #D2E3FC;\n",
              "      --hover-bg-color: #434B5C;\n",
              "      --hover-fill-color: #FFFFFF;\n",
              "      --disabled-bg-color: #3B4455;\n",
              "      --disabled-fill-color: #666;\n",
              "  }\n",
              "\n",
              "  .colab-df-quickchart {\n",
              "    background-color: var(--bg-color);\n",
              "    border: none;\n",
              "    border-radius: 50%;\n",
              "    cursor: pointer;\n",
              "    display: none;\n",
              "    fill: var(--fill-color);\n",
              "    height: 32px;\n",
              "    padding: 0;\n",
              "    width: 32px;\n",
              "  }\n",
              "\n",
              "  .colab-df-quickchart:hover {\n",
              "    background-color: var(--hover-bg-color);\n",
              "    box-shadow: 0 1px 2px rgba(60, 64, 67, 0.3), 0 1px 3px 1px rgba(60, 64, 67, 0.15);\n",
              "    fill: var(--button-hover-fill-color);\n",
              "  }\n",
              "\n",
              "  .colab-df-quickchart-complete:disabled,\n",
              "  .colab-df-quickchart-complete:disabled:hover {\n",
              "    background-color: var(--disabled-bg-color);\n",
              "    fill: var(--disabled-fill-color);\n",
              "    box-shadow: none;\n",
              "  }\n",
              "\n",
              "  .colab-df-spinner {\n",
              "    border: 2px solid var(--fill-color);\n",
              "    border-color: transparent;\n",
              "    border-bottom-color: var(--fill-color);\n",
              "    animation:\n",
              "      spin 1s steps(1) infinite;\n",
              "  }\n",
              "\n",
              "  @keyframes spin {\n",
              "    0% {\n",
              "      border-color: transparent;\n",
              "      border-bottom-color: var(--fill-color);\n",
              "      border-left-color: var(--fill-color);\n",
              "    }\n",
              "    20% {\n",
              "      border-color: transparent;\n",
              "      border-left-color: var(--fill-color);\n",
              "      border-top-color: var(--fill-color);\n",
              "    }\n",
              "    30% {\n",
              "      border-color: transparent;\n",
              "      border-left-color: var(--fill-color);\n",
              "      border-top-color: var(--fill-color);\n",
              "      border-right-color: var(--fill-color);\n",
              "    }\n",
              "    40% {\n",
              "      border-color: transparent;\n",
              "      border-right-color: var(--fill-color);\n",
              "      border-top-color: var(--fill-color);\n",
              "    }\n",
              "    60% {\n",
              "      border-color: transparent;\n",
              "      border-right-color: var(--fill-color);\n",
              "    }\n",
              "    80% {\n",
              "      border-color: transparent;\n",
              "      border-right-color: var(--fill-color);\n",
              "      border-bottom-color: var(--fill-color);\n",
              "    }\n",
              "    90% {\n",
              "      border-color: transparent;\n",
              "      border-bottom-color: var(--fill-color);\n",
              "    }\n",
              "  }\n",
              "</style>\n",
              "\n",
              "  <script>\n",
              "    async function quickchart(key) {\n",
              "      const quickchartButtonEl =\n",
              "        document.querySelector('#' + key + ' button');\n",
              "      quickchartButtonEl.disabled = true;  // To prevent multiple clicks.\n",
              "      quickchartButtonEl.classList.add('colab-df-spinner');\n",
              "      try {\n",
              "        const charts = await google.colab.kernel.invokeFunction(\n",
              "            'suggestCharts', [key], {});\n",
              "      } catch (error) {\n",
              "        console.error('Error during call to suggestCharts:', error);\n",
              "      }\n",
              "      quickchartButtonEl.classList.remove('colab-df-spinner');\n",
              "      quickchartButtonEl.classList.add('colab-df-quickchart-complete');\n",
              "    }\n",
              "    (() => {\n",
              "      let quickchartButtonEl =\n",
              "        document.querySelector('#df-0a685057-6aef-454d-8bef-2afac768ea1c button');\n",
              "      quickchartButtonEl.style.display =\n",
              "        google.colab.kernel.accessAllowed ? 'block' : 'none';\n",
              "    })();\n",
              "  </script>\n",
              "</div>\n",
              "\n",
              "    </div>\n",
              "  </div>\n"
            ],
            "application/vnd.google.colaboratory.intrinsic+json": {
              "type": "dataframe",
              "summary": "{\n  \"name\": \"# Pastikan file CSV berada di direktori yang sama atau sesuaikan path-nya\",\n  \"rows\": 5,\n  \"fields\": [\n    {\n      \"column\": \"ID\",\n      \"properties\": {\n        \"dtype\": \"number\",\n        \"std\": 1,\n        \"min\": 1,\n        \"max\": 5,\n        \"num_unique_values\": 5,\n        \"samples\": [\n          2,\n          5,\n          3\n        ],\n        \"semantic_type\": \"\",\n        \"description\": \"\"\n      }\n    },\n    {\n      \"column\": \"Umur\",\n      \"properties\": {\n        \"dtype\": \"number\",\n        \"std\": 2,\n        \"min\": 23,\n        \"max\": 30,\n        \"num_unique_values\": 5,\n        \"samples\": [\n          23,\n          24,\n          30\n        ],\n        \"semantic_type\": \"\",\n        \"description\": \"\"\n      }\n    },\n    {\n      \"column\": \"Asal_Daerah\",\n      \"properties\": {\n        \"dtype\": \"string\",\n        \"num_unique_values\": 3,\n        \"samples\": [\n          \"Jawa Tengah\",\n          \"Yogyakarta\",\n          \"Bali\"\n        ],\n        \"semantic_type\": \"\",\n        \"description\": \"\"\n      }\n    },\n    {\n      \"column\": \"Pendidikan\",\n      \"properties\": {\n        \"dtype\": \"category\",\n        \"num_unique_values\": 1,\n        \"samples\": [\n          \"S1\"\n        ],\n        \"semantic_type\": \"\",\n        \"description\": \"\"\n      }\n    },\n    {\n      \"column\": \"Informasi_Purwadhika\",\n      \"properties\": {\n        \"dtype\": \"string\",\n        \"num_unique_values\": 3,\n        \"samples\": [\n          \"Instagram\"\n        ],\n        \"semantic_type\": \"\",\n        \"description\": \"\"\n      }\n    },\n    {\n      \"column\": \"Tingkat_Kemampuan\",\n      \"properties\": {\n        \"dtype\": \"number\",\n        \"std\": 0,\n        \"min\": 1,\n        \"max\": 3,\n        \"num_unique_values\": 3,\n        \"samples\": [\n          2\n        ],\n        \"semantic_type\": \"\",\n        \"description\": \"\"\n      }\n    },\n    {\n      \"column\": \"kelas\",\n      \"properties\": {\n        \"dtype\": \"category\",\n        \"num_unique_values\": 2,\n        \"samples\": [\n          \"WD\"\n        ],\n        \"semantic_type\": \"\",\n        \"description\": \"\"\n      }\n    },\n    {\n      \"column\": \"Pengeluaran_Bulanan\",\n      \"properties\": {\n        \"dtype\": \"number\",\n        \"std\": 376828,\n        \"min\": 1100000,\n        \"max\": 2000000,\n        \"num_unique_values\": 4,\n        \"samples\": [\n          2000000\n        ],\n        \"semantic_type\": \"\",\n        \"description\": \"\"\n      }\n    },\n    {\n      \"column\": \"gender\",\n      \"properties\": {\n        \"dtype\": \"category\",\n        \"num_unique_values\": 1,\n        \"samples\": [\n          \"Pria\"\n        ],\n        \"semantic_type\": \"\",\n        \"description\": \"\"\n      }\n    }\n  ]\n}"
            }
          },
          "metadata": {},
          "execution_count": 74
        }
      ]
    },
    {
      "cell_type": "markdown",
      "source": [
        "# Menghapus Kolom ID"
      ],
      "metadata": {
        "id": "IxANiqCEM6oX"
      }
    },
    {
      "cell_type": "code",
      "source": [
        "# 2. Menghapus Kolom ID Jika Ada\n",
        "# Keterangan: Kolom ID tidak diperlukan untuk analisis, jadi dihapus jika ada.\n",
        "if 'ID' in df.columns:\n",
        "    df = df.drop(columns=['ID'])\n",
        "df.head()"
      ],
      "metadata": {
        "colab": {
          "base_uri": "https://localhost:8080/",
          "height": 206
        },
        "id": "sz-J2VNgM_Yu",
        "outputId": "54f00574-ead4-4986-c07a-d6758e2994cb"
      },
      "execution_count": 77,
      "outputs": [
        {
          "output_type": "execute_result",
          "data": {
            "text/plain": [
              "   Umur  Asal_Daerah Pendidikan Informasi_Purwadhika  Tingkat_Kemampuan kelas  \\\n",
              "0    26  Jawa Tengah         S1            Instagram                  2    DM   \n",
              "1    23   Yogyakarta         S1                Teman                  3    WD   \n",
              "2    30  Jawa Tengah         S1              Lainnya                  2    DM   \n",
              "3    27         Bali         S1                Teman                  3    DM   \n",
              "4    24  Jawa Tengah         S1              Lainnya                  1    WD   \n",
              "\n",
              "   Pengeluaran_Bulanan gender  \n",
              "0              1200000   Pria  \n",
              "1              2000000   Pria  \n",
              "2              1600000   Pria  \n",
              "3              1100000   Pria  \n",
              "4              1200000   Pria  "
            ],
            "text/html": [
              "\n",
              "  <div id=\"df-0f7cac6d-331a-49b5-832c-1b53221a8d94\" class=\"colab-df-container\">\n",
              "    <div>\n",
              "<style scoped>\n",
              "    .dataframe tbody tr th:only-of-type {\n",
              "        vertical-align: middle;\n",
              "    }\n",
              "\n",
              "    .dataframe tbody tr th {\n",
              "        vertical-align: top;\n",
              "    }\n",
              "\n",
              "    .dataframe thead th {\n",
              "        text-align: right;\n",
              "    }\n",
              "</style>\n",
              "<table border=\"1\" class=\"dataframe\">\n",
              "  <thead>\n",
              "    <tr style=\"text-align: right;\">\n",
              "      <th></th>\n",
              "      <th>Umur</th>\n",
              "      <th>Asal_Daerah</th>\n",
              "      <th>Pendidikan</th>\n",
              "      <th>Informasi_Purwadhika</th>\n",
              "      <th>Tingkat_Kemampuan</th>\n",
              "      <th>kelas</th>\n",
              "      <th>Pengeluaran_Bulanan</th>\n",
              "      <th>gender</th>\n",
              "    </tr>\n",
              "  </thead>\n",
              "  <tbody>\n",
              "    <tr>\n",
              "      <th>0</th>\n",
              "      <td>26</td>\n",
              "      <td>Jawa Tengah</td>\n",
              "      <td>S1</td>\n",
              "      <td>Instagram</td>\n",
              "      <td>2</td>\n",
              "      <td>DM</td>\n",
              "      <td>1200000</td>\n",
              "      <td>Pria</td>\n",
              "    </tr>\n",
              "    <tr>\n",
              "      <th>1</th>\n",
              "      <td>23</td>\n",
              "      <td>Yogyakarta</td>\n",
              "      <td>S1</td>\n",
              "      <td>Teman</td>\n",
              "      <td>3</td>\n",
              "      <td>WD</td>\n",
              "      <td>2000000</td>\n",
              "      <td>Pria</td>\n",
              "    </tr>\n",
              "    <tr>\n",
              "      <th>2</th>\n",
              "      <td>30</td>\n",
              "      <td>Jawa Tengah</td>\n",
              "      <td>S1</td>\n",
              "      <td>Lainnya</td>\n",
              "      <td>2</td>\n",
              "      <td>DM</td>\n",
              "      <td>1600000</td>\n",
              "      <td>Pria</td>\n",
              "    </tr>\n",
              "    <tr>\n",
              "      <th>3</th>\n",
              "      <td>27</td>\n",
              "      <td>Bali</td>\n",
              "      <td>S1</td>\n",
              "      <td>Teman</td>\n",
              "      <td>3</td>\n",
              "      <td>DM</td>\n",
              "      <td>1100000</td>\n",
              "      <td>Pria</td>\n",
              "    </tr>\n",
              "    <tr>\n",
              "      <th>4</th>\n",
              "      <td>24</td>\n",
              "      <td>Jawa Tengah</td>\n",
              "      <td>S1</td>\n",
              "      <td>Lainnya</td>\n",
              "      <td>1</td>\n",
              "      <td>WD</td>\n",
              "      <td>1200000</td>\n",
              "      <td>Pria</td>\n",
              "    </tr>\n",
              "  </tbody>\n",
              "</table>\n",
              "</div>\n",
              "    <div class=\"colab-df-buttons\">\n",
              "\n",
              "  <div class=\"colab-df-container\">\n",
              "    <button class=\"colab-df-convert\" onclick=\"convertToInteractive('df-0f7cac6d-331a-49b5-832c-1b53221a8d94')\"\n",
              "            title=\"Convert this dataframe to an interactive table.\"\n",
              "            style=\"display:none;\">\n",
              "\n",
              "  <svg xmlns=\"http://www.w3.org/2000/svg\" height=\"24px\" viewBox=\"0 -960 960 960\">\n",
              "    <path d=\"M120-120v-720h720v720H120Zm60-500h600v-160H180v160Zm220 220h160v-160H400v160Zm0 220h160v-160H400v160ZM180-400h160v-160H180v160Zm440 0h160v-160H620v160ZM180-180h160v-160H180v160Zm440 0h160v-160H620v160Z\"/>\n",
              "  </svg>\n",
              "    </button>\n",
              "\n",
              "  <style>\n",
              "    .colab-df-container {\n",
              "      display:flex;\n",
              "      gap: 12px;\n",
              "    }\n",
              "\n",
              "    .colab-df-convert {\n",
              "      background-color: #E8F0FE;\n",
              "      border: none;\n",
              "      border-radius: 50%;\n",
              "      cursor: pointer;\n",
              "      display: none;\n",
              "      fill: #1967D2;\n",
              "      height: 32px;\n",
              "      padding: 0 0 0 0;\n",
              "      width: 32px;\n",
              "    }\n",
              "\n",
              "    .colab-df-convert:hover {\n",
              "      background-color: #E2EBFA;\n",
              "      box-shadow: 0px 1px 2px rgba(60, 64, 67, 0.3), 0px 1px 3px 1px rgba(60, 64, 67, 0.15);\n",
              "      fill: #174EA6;\n",
              "    }\n",
              "\n",
              "    .colab-df-buttons div {\n",
              "      margin-bottom: 4px;\n",
              "    }\n",
              "\n",
              "    [theme=dark] .colab-df-convert {\n",
              "      background-color: #3B4455;\n",
              "      fill: #D2E3FC;\n",
              "    }\n",
              "\n",
              "    [theme=dark] .colab-df-convert:hover {\n",
              "      background-color: #434B5C;\n",
              "      box-shadow: 0px 1px 3px 1px rgba(0, 0, 0, 0.15);\n",
              "      filter: drop-shadow(0px 1px 2px rgba(0, 0, 0, 0.3));\n",
              "      fill: #FFFFFF;\n",
              "    }\n",
              "  </style>\n",
              "\n",
              "    <script>\n",
              "      const buttonEl =\n",
              "        document.querySelector('#df-0f7cac6d-331a-49b5-832c-1b53221a8d94 button.colab-df-convert');\n",
              "      buttonEl.style.display =\n",
              "        google.colab.kernel.accessAllowed ? 'block' : 'none';\n",
              "\n",
              "      async function convertToInteractive(key) {\n",
              "        const element = document.querySelector('#df-0f7cac6d-331a-49b5-832c-1b53221a8d94');\n",
              "        const dataTable =\n",
              "          await google.colab.kernel.invokeFunction('convertToInteractive',\n",
              "                                                    [key], {});\n",
              "        if (!dataTable) return;\n",
              "\n",
              "        const docLinkHtml = 'Like what you see? Visit the ' +\n",
              "          '<a target=\"_blank\" href=https://colab.research.google.com/notebooks/data_table.ipynb>data table notebook</a>'\n",
              "          + ' to learn more about interactive tables.';\n",
              "        element.innerHTML = '';\n",
              "        dataTable['output_type'] = 'display_data';\n",
              "        await google.colab.output.renderOutput(dataTable, element);\n",
              "        const docLink = document.createElement('div');\n",
              "        docLink.innerHTML = docLinkHtml;\n",
              "        element.appendChild(docLink);\n",
              "      }\n",
              "    </script>\n",
              "  </div>\n",
              "\n",
              "\n",
              "<div id=\"df-e1b285d0-10ef-478b-a9bf-0eb7ce32dc08\">\n",
              "  <button class=\"colab-df-quickchart\" onclick=\"quickchart('df-e1b285d0-10ef-478b-a9bf-0eb7ce32dc08')\"\n",
              "            title=\"Suggest charts\"\n",
              "            style=\"display:none;\">\n",
              "\n",
              "<svg xmlns=\"http://www.w3.org/2000/svg\" height=\"24px\"viewBox=\"0 0 24 24\"\n",
              "     width=\"24px\">\n",
              "    <g>\n",
              "        <path d=\"M19 3H5c-1.1 0-2 .9-2 2v14c0 1.1.9 2 2 2h14c1.1 0 2-.9 2-2V5c0-1.1-.9-2-2-2zM9 17H7v-7h2v7zm4 0h-2V7h2v10zm4 0h-2v-4h2v4z\"/>\n",
              "    </g>\n",
              "</svg>\n",
              "  </button>\n",
              "\n",
              "<style>\n",
              "  .colab-df-quickchart {\n",
              "      --bg-color: #E8F0FE;\n",
              "      --fill-color: #1967D2;\n",
              "      --hover-bg-color: #E2EBFA;\n",
              "      --hover-fill-color: #174EA6;\n",
              "      --disabled-fill-color: #AAA;\n",
              "      --disabled-bg-color: #DDD;\n",
              "  }\n",
              "\n",
              "  [theme=dark] .colab-df-quickchart {\n",
              "      --bg-color: #3B4455;\n",
              "      --fill-color: #D2E3FC;\n",
              "      --hover-bg-color: #434B5C;\n",
              "      --hover-fill-color: #FFFFFF;\n",
              "      --disabled-bg-color: #3B4455;\n",
              "      --disabled-fill-color: #666;\n",
              "  }\n",
              "\n",
              "  .colab-df-quickchart {\n",
              "    background-color: var(--bg-color);\n",
              "    border: none;\n",
              "    border-radius: 50%;\n",
              "    cursor: pointer;\n",
              "    display: none;\n",
              "    fill: var(--fill-color);\n",
              "    height: 32px;\n",
              "    padding: 0;\n",
              "    width: 32px;\n",
              "  }\n",
              "\n",
              "  .colab-df-quickchart:hover {\n",
              "    background-color: var(--hover-bg-color);\n",
              "    box-shadow: 0 1px 2px rgba(60, 64, 67, 0.3), 0 1px 3px 1px rgba(60, 64, 67, 0.15);\n",
              "    fill: var(--button-hover-fill-color);\n",
              "  }\n",
              "\n",
              "  .colab-df-quickchart-complete:disabled,\n",
              "  .colab-df-quickchart-complete:disabled:hover {\n",
              "    background-color: var(--disabled-bg-color);\n",
              "    fill: var(--disabled-fill-color);\n",
              "    box-shadow: none;\n",
              "  }\n",
              "\n",
              "  .colab-df-spinner {\n",
              "    border: 2px solid var(--fill-color);\n",
              "    border-color: transparent;\n",
              "    border-bottom-color: var(--fill-color);\n",
              "    animation:\n",
              "      spin 1s steps(1) infinite;\n",
              "  }\n",
              "\n",
              "  @keyframes spin {\n",
              "    0% {\n",
              "      border-color: transparent;\n",
              "      border-bottom-color: var(--fill-color);\n",
              "      border-left-color: var(--fill-color);\n",
              "    }\n",
              "    20% {\n",
              "      border-color: transparent;\n",
              "      border-left-color: var(--fill-color);\n",
              "      border-top-color: var(--fill-color);\n",
              "    }\n",
              "    30% {\n",
              "      border-color: transparent;\n",
              "      border-left-color: var(--fill-color);\n",
              "      border-top-color: var(--fill-color);\n",
              "      border-right-color: var(--fill-color);\n",
              "    }\n",
              "    40% {\n",
              "      border-color: transparent;\n",
              "      border-right-color: var(--fill-color);\n",
              "      border-top-color: var(--fill-color);\n",
              "    }\n",
              "    60% {\n",
              "      border-color: transparent;\n",
              "      border-right-color: var(--fill-color);\n",
              "    }\n",
              "    80% {\n",
              "      border-color: transparent;\n",
              "      border-right-color: var(--fill-color);\n",
              "      border-bottom-color: var(--fill-color);\n",
              "    }\n",
              "    90% {\n",
              "      border-color: transparent;\n",
              "      border-bottom-color: var(--fill-color);\n",
              "    }\n",
              "  }\n",
              "</style>\n",
              "\n",
              "  <script>\n",
              "    async function quickchart(key) {\n",
              "      const quickchartButtonEl =\n",
              "        document.querySelector('#' + key + ' button');\n",
              "      quickchartButtonEl.disabled = true;  // To prevent multiple clicks.\n",
              "      quickchartButtonEl.classList.add('colab-df-spinner');\n",
              "      try {\n",
              "        const charts = await google.colab.kernel.invokeFunction(\n",
              "            'suggestCharts', [key], {});\n",
              "      } catch (error) {\n",
              "        console.error('Error during call to suggestCharts:', error);\n",
              "      }\n",
              "      quickchartButtonEl.classList.remove('colab-df-spinner');\n",
              "      quickchartButtonEl.classList.add('colab-df-quickchart-complete');\n",
              "    }\n",
              "    (() => {\n",
              "      let quickchartButtonEl =\n",
              "        document.querySelector('#df-e1b285d0-10ef-478b-a9bf-0eb7ce32dc08 button');\n",
              "      quickchartButtonEl.style.display =\n",
              "        google.colab.kernel.accessAllowed ? 'block' : 'none';\n",
              "    })();\n",
              "  </script>\n",
              "</div>\n",
              "\n",
              "    </div>\n",
              "  </div>\n"
            ],
            "application/vnd.google.colaboratory.intrinsic+json": {
              "type": "dataframe",
              "variable_name": "df",
              "summary": "{\n  \"name\": \"df\",\n  \"rows\": 50,\n  \"fields\": [\n    {\n      \"column\": \"Umur\",\n      \"properties\": {\n        \"dtype\": \"number\",\n        \"std\": 4,\n        \"min\": 20,\n        \"max\": 39,\n        \"num_unique_values\": 17,\n        \"samples\": [\n          26,\n          23,\n          21\n        ],\n        \"semantic_type\": \"\",\n        \"description\": \"\"\n      }\n    },\n    {\n      \"column\": \"Asal_Daerah\",\n      \"properties\": {\n        \"dtype\": \"category\",\n        \"num_unique_values\": 7,\n        \"samples\": [\n          \"Jawa Tengah\",\n          \"Yogyakarta\",\n          \"Papua\"\n        ],\n        \"semantic_type\": \"\",\n        \"description\": \"\"\n      }\n    },\n    {\n      \"column\": \"Pendidikan\",\n      \"properties\": {\n        \"dtype\": \"category\",\n        \"num_unique_values\": 2,\n        \"samples\": [\n          \"SMA\",\n          \"S1\"\n        ],\n        \"semantic_type\": \"\",\n        \"description\": \"\"\n      }\n    },\n    {\n      \"column\": \"Informasi_Purwadhika\",\n      \"properties\": {\n        \"dtype\": \"category\",\n        \"num_unique_values\": 5,\n        \"samples\": [\n          \"Teman\",\n          \"Twitter\"\n        ],\n        \"semantic_type\": \"\",\n        \"description\": \"\"\n      }\n    },\n    {\n      \"column\": \"Tingkat_Kemampuan\",\n      \"properties\": {\n        \"dtype\": \"number\",\n        \"std\": 0,\n        \"min\": 1,\n        \"max\": 3,\n        \"num_unique_values\": 3,\n        \"samples\": [\n          2,\n          3\n        ],\n        \"semantic_type\": \"\",\n        \"description\": \"\"\n      }\n    },\n    {\n      \"column\": \"kelas\",\n      \"properties\": {\n        \"dtype\": \"category\",\n        \"num_unique_values\": 2,\n        \"samples\": [\n          \"WD\",\n          \"DM\"\n        ],\n        \"semantic_type\": \"\",\n        \"description\": \"\"\n      }\n    },\n    {\n      \"column\": \"Pengeluaran_Bulanan\",\n      \"properties\": {\n        \"dtype\": \"number\",\n        \"std\": 286434,\n        \"min\": 800000,\n        \"max\": 2000000,\n        \"num_unique_values\": 12,\n        \"samples\": [\n          900000,\n          1000000\n        ],\n        \"semantic_type\": \"\",\n        \"description\": \"\"\n      }\n    },\n    {\n      \"column\": \"gender\",\n      \"properties\": {\n        \"dtype\": \"category\",\n        \"num_unique_values\": 2,\n        \"samples\": [\n          \"Wanita\",\n          \"Pria\"\n        ],\n        \"semantic_type\": \"\",\n        \"description\": \"\"\n      }\n    }\n  ]\n}"
            }
          },
          "metadata": {},
          "execution_count": 77
        }
      ]
    },
    {
      "cell_type": "markdown",
      "source": [
        "# Membersihkan Data"
      ],
      "metadata": {
        "id": "VMNDCMiENCwS"
      }
    },
    {
      "cell_type": "code",
      "source": [
        "# 3. Membersihkan Data\n",
        "# Keterangan: Melakukan pembersihan data dengan menghapus baris duplikat dan baris yang memiliki nilai kosong.\n",
        "# Juga, mengonversi kolom \"Umur\" dan \"Pengeluaran_Bulanan\" ke tipe data numerik.\n",
        "df = df.drop_duplicates()   # Menghapus baris duplikat\n",
        "df = df.dropna()    # Menghapus baris dengan nilai kosong\n",
        "df[\"Umur\"] = pd.to_numeric(df[\"Umur\"], errors='coerce')  # Mengonversi kolom \"Umur\" ke numerik\n",
        "df[\"Pengeluaran_Bulanan\"] = pd.to_numeric(df[\"Pengeluaran_Bulanan\"], errors='coerce')  # Mengonversi kolom \"Pengeluaran_Bulanan\" ke numerik"
      ],
      "metadata": {
        "id": "RxiVjqzhNFZf"
      },
      "execution_count": 81,
      "outputs": []
    },
    {
      "cell_type": "markdown",
      "source": [
        "# Membuat Kelompok Usia"
      ],
      "metadata": {
        "id": "ENEDXlOSNTYh"
      }
    },
    {
      "cell_type": "code",
      "source": [
        "# 4. Menambahkan Kelompok Usia\n",
        "# Keterangan: Membuat fungsi untuk mengelompokkan usia ke dalam kategori dan menambahkan kolom \"Kelompok_Umur\" ke DataFrame.\n",
        "def kategori_umur(umur):\n",
        "    if umur < 18:\n",
        "        return \"<18\"\n",
        "    elif 18 <= umur <= 24:\n",
        "        return \"18-24\"\n",
        "    elif 25 <= umur <= 34:\n",
        "        return \"25-34\"\n",
        "    elif 35 <= umur <= 44:\n",
        "        return \"35-44\"\n",
        "    elif 45 <= umur <= 54:\n",
        "        return \"45-54\"\n",
        "    else:\n",
        "        return \"55+\"\n",
        "\n",
        "df[\"Kelompok_Umur\"] = df[\"Umur\"].apply(kategori_umur)\n",
        "df[[\"Umur\", \"Kelompok_Umur\"]].head()\n",
        "# Keterangan: Setiap nilai di kolom \"Umur\" diubah menjadi kategori berdasarkan fungsi di atas."
      ],
      "metadata": {
        "colab": {
          "base_uri": "https://localhost:8080/",
          "height": 206
        },
        "id": "5btbyV2pNWOh",
        "outputId": "d0084465-4d20-4bb0-edda-766880ad7e29"
      },
      "execution_count": 85,
      "outputs": [
        {
          "output_type": "execute_result",
          "data": {
            "text/plain": [
              "   Umur Kelompok_Umur\n",
              "0    26         25-34\n",
              "1    23         18-24\n",
              "2    30         25-34\n",
              "3    27         25-34\n",
              "4    24         18-24"
            ],
            "text/html": [
              "\n",
              "  <div id=\"df-fb0c695a-dba0-4111-89af-ae8ea1434185\" class=\"colab-df-container\">\n",
              "    <div>\n",
              "<style scoped>\n",
              "    .dataframe tbody tr th:only-of-type {\n",
              "        vertical-align: middle;\n",
              "    }\n",
              "\n",
              "    .dataframe tbody tr th {\n",
              "        vertical-align: top;\n",
              "    }\n",
              "\n",
              "    .dataframe thead th {\n",
              "        text-align: right;\n",
              "    }\n",
              "</style>\n",
              "<table border=\"1\" class=\"dataframe\">\n",
              "  <thead>\n",
              "    <tr style=\"text-align: right;\">\n",
              "      <th></th>\n",
              "      <th>Umur</th>\n",
              "      <th>Kelompok_Umur</th>\n",
              "    </tr>\n",
              "  </thead>\n",
              "  <tbody>\n",
              "    <tr>\n",
              "      <th>0</th>\n",
              "      <td>26</td>\n",
              "      <td>25-34</td>\n",
              "    </tr>\n",
              "    <tr>\n",
              "      <th>1</th>\n",
              "      <td>23</td>\n",
              "      <td>18-24</td>\n",
              "    </tr>\n",
              "    <tr>\n",
              "      <th>2</th>\n",
              "      <td>30</td>\n",
              "      <td>25-34</td>\n",
              "    </tr>\n",
              "    <tr>\n",
              "      <th>3</th>\n",
              "      <td>27</td>\n",
              "      <td>25-34</td>\n",
              "    </tr>\n",
              "    <tr>\n",
              "      <th>4</th>\n",
              "      <td>24</td>\n",
              "      <td>18-24</td>\n",
              "    </tr>\n",
              "  </tbody>\n",
              "</table>\n",
              "</div>\n",
              "    <div class=\"colab-df-buttons\">\n",
              "\n",
              "  <div class=\"colab-df-container\">\n",
              "    <button class=\"colab-df-convert\" onclick=\"convertToInteractive('df-fb0c695a-dba0-4111-89af-ae8ea1434185')\"\n",
              "            title=\"Convert this dataframe to an interactive table.\"\n",
              "            style=\"display:none;\">\n",
              "\n",
              "  <svg xmlns=\"http://www.w3.org/2000/svg\" height=\"24px\" viewBox=\"0 -960 960 960\">\n",
              "    <path d=\"M120-120v-720h720v720H120Zm60-500h600v-160H180v160Zm220 220h160v-160H400v160Zm0 220h160v-160H400v160ZM180-400h160v-160H180v160Zm440 0h160v-160H620v160ZM180-180h160v-160H180v160Zm440 0h160v-160H620v160Z\"/>\n",
              "  </svg>\n",
              "    </button>\n",
              "\n",
              "  <style>\n",
              "    .colab-df-container {\n",
              "      display:flex;\n",
              "      gap: 12px;\n",
              "    }\n",
              "\n",
              "    .colab-df-convert {\n",
              "      background-color: #E8F0FE;\n",
              "      border: none;\n",
              "      border-radius: 50%;\n",
              "      cursor: pointer;\n",
              "      display: none;\n",
              "      fill: #1967D2;\n",
              "      height: 32px;\n",
              "      padding: 0 0 0 0;\n",
              "      width: 32px;\n",
              "    }\n",
              "\n",
              "    .colab-df-convert:hover {\n",
              "      background-color: #E2EBFA;\n",
              "      box-shadow: 0px 1px 2px rgba(60, 64, 67, 0.3), 0px 1px 3px 1px rgba(60, 64, 67, 0.15);\n",
              "      fill: #174EA6;\n",
              "    }\n",
              "\n",
              "    .colab-df-buttons div {\n",
              "      margin-bottom: 4px;\n",
              "    }\n",
              "\n",
              "    [theme=dark] .colab-df-convert {\n",
              "      background-color: #3B4455;\n",
              "      fill: #D2E3FC;\n",
              "    }\n",
              "\n",
              "    [theme=dark] .colab-df-convert:hover {\n",
              "      background-color: #434B5C;\n",
              "      box-shadow: 0px 1px 3px 1px rgba(0, 0, 0, 0.15);\n",
              "      filter: drop-shadow(0px 1px 2px rgba(0, 0, 0, 0.3));\n",
              "      fill: #FFFFFF;\n",
              "    }\n",
              "  </style>\n",
              "\n",
              "    <script>\n",
              "      const buttonEl =\n",
              "        document.querySelector('#df-fb0c695a-dba0-4111-89af-ae8ea1434185 button.colab-df-convert');\n",
              "      buttonEl.style.display =\n",
              "        google.colab.kernel.accessAllowed ? 'block' : 'none';\n",
              "\n",
              "      async function convertToInteractive(key) {\n",
              "        const element = document.querySelector('#df-fb0c695a-dba0-4111-89af-ae8ea1434185');\n",
              "        const dataTable =\n",
              "          await google.colab.kernel.invokeFunction('convertToInteractive',\n",
              "                                                    [key], {});\n",
              "        if (!dataTable) return;\n",
              "\n",
              "        const docLinkHtml = 'Like what you see? Visit the ' +\n",
              "          '<a target=\"_blank\" href=https://colab.research.google.com/notebooks/data_table.ipynb>data table notebook</a>'\n",
              "          + ' to learn more about interactive tables.';\n",
              "        element.innerHTML = '';\n",
              "        dataTable['output_type'] = 'display_data';\n",
              "        await google.colab.output.renderOutput(dataTable, element);\n",
              "        const docLink = document.createElement('div');\n",
              "        docLink.innerHTML = docLinkHtml;\n",
              "        element.appendChild(docLink);\n",
              "      }\n",
              "    </script>\n",
              "  </div>\n",
              "\n",
              "\n",
              "<div id=\"df-a9739ab4-ed9e-4e50-b4e1-2a7e29eaeb73\">\n",
              "  <button class=\"colab-df-quickchart\" onclick=\"quickchart('df-a9739ab4-ed9e-4e50-b4e1-2a7e29eaeb73')\"\n",
              "            title=\"Suggest charts\"\n",
              "            style=\"display:none;\">\n",
              "\n",
              "<svg xmlns=\"http://www.w3.org/2000/svg\" height=\"24px\"viewBox=\"0 0 24 24\"\n",
              "     width=\"24px\">\n",
              "    <g>\n",
              "        <path d=\"M19 3H5c-1.1 0-2 .9-2 2v14c0 1.1.9 2 2 2h14c1.1 0 2-.9 2-2V5c0-1.1-.9-2-2-2zM9 17H7v-7h2v7zm4 0h-2V7h2v10zm4 0h-2v-4h2v4z\"/>\n",
              "    </g>\n",
              "</svg>\n",
              "  </button>\n",
              "\n",
              "<style>\n",
              "  .colab-df-quickchart {\n",
              "      --bg-color: #E8F0FE;\n",
              "      --fill-color: #1967D2;\n",
              "      --hover-bg-color: #E2EBFA;\n",
              "      --hover-fill-color: #174EA6;\n",
              "      --disabled-fill-color: #AAA;\n",
              "      --disabled-bg-color: #DDD;\n",
              "  }\n",
              "\n",
              "  [theme=dark] .colab-df-quickchart {\n",
              "      --bg-color: #3B4455;\n",
              "      --fill-color: #D2E3FC;\n",
              "      --hover-bg-color: #434B5C;\n",
              "      --hover-fill-color: #FFFFFF;\n",
              "      --disabled-bg-color: #3B4455;\n",
              "      --disabled-fill-color: #666;\n",
              "  }\n",
              "\n",
              "  .colab-df-quickchart {\n",
              "    background-color: var(--bg-color);\n",
              "    border: none;\n",
              "    border-radius: 50%;\n",
              "    cursor: pointer;\n",
              "    display: none;\n",
              "    fill: var(--fill-color);\n",
              "    height: 32px;\n",
              "    padding: 0;\n",
              "    width: 32px;\n",
              "  }\n",
              "\n",
              "  .colab-df-quickchart:hover {\n",
              "    background-color: var(--hover-bg-color);\n",
              "    box-shadow: 0 1px 2px rgba(60, 64, 67, 0.3), 0 1px 3px 1px rgba(60, 64, 67, 0.15);\n",
              "    fill: var(--button-hover-fill-color);\n",
              "  }\n",
              "\n",
              "  .colab-df-quickchart-complete:disabled,\n",
              "  .colab-df-quickchart-complete:disabled:hover {\n",
              "    background-color: var(--disabled-bg-color);\n",
              "    fill: var(--disabled-fill-color);\n",
              "    box-shadow: none;\n",
              "  }\n",
              "\n",
              "  .colab-df-spinner {\n",
              "    border: 2px solid var(--fill-color);\n",
              "    border-color: transparent;\n",
              "    border-bottom-color: var(--fill-color);\n",
              "    animation:\n",
              "      spin 1s steps(1) infinite;\n",
              "  }\n",
              "\n",
              "  @keyframes spin {\n",
              "    0% {\n",
              "      border-color: transparent;\n",
              "      border-bottom-color: var(--fill-color);\n",
              "      border-left-color: var(--fill-color);\n",
              "    }\n",
              "    20% {\n",
              "      border-color: transparent;\n",
              "      border-left-color: var(--fill-color);\n",
              "      border-top-color: var(--fill-color);\n",
              "    }\n",
              "    30% {\n",
              "      border-color: transparent;\n",
              "      border-left-color: var(--fill-color);\n",
              "      border-top-color: var(--fill-color);\n",
              "      border-right-color: var(--fill-color);\n",
              "    }\n",
              "    40% {\n",
              "      border-color: transparent;\n",
              "      border-right-color: var(--fill-color);\n",
              "      border-top-color: var(--fill-color);\n",
              "    }\n",
              "    60% {\n",
              "      border-color: transparent;\n",
              "      border-right-color: var(--fill-color);\n",
              "    }\n",
              "    80% {\n",
              "      border-color: transparent;\n",
              "      border-right-color: var(--fill-color);\n",
              "      border-bottom-color: var(--fill-color);\n",
              "    }\n",
              "    90% {\n",
              "      border-color: transparent;\n",
              "      border-bottom-color: var(--fill-color);\n",
              "    }\n",
              "  }\n",
              "</style>\n",
              "\n",
              "  <script>\n",
              "    async function quickchart(key) {\n",
              "      const quickchartButtonEl =\n",
              "        document.querySelector('#' + key + ' button');\n",
              "      quickchartButtonEl.disabled = true;  // To prevent multiple clicks.\n",
              "      quickchartButtonEl.classList.add('colab-df-spinner');\n",
              "      try {\n",
              "        const charts = await google.colab.kernel.invokeFunction(\n",
              "            'suggestCharts', [key], {});\n",
              "      } catch (error) {\n",
              "        console.error('Error during call to suggestCharts:', error);\n",
              "      }\n",
              "      quickchartButtonEl.classList.remove('colab-df-spinner');\n",
              "      quickchartButtonEl.classList.add('colab-df-quickchart-complete');\n",
              "    }\n",
              "    (() => {\n",
              "      let quickchartButtonEl =\n",
              "        document.querySelector('#df-a9739ab4-ed9e-4e50-b4e1-2a7e29eaeb73 button');\n",
              "      quickchartButtonEl.style.display =\n",
              "        google.colab.kernel.accessAllowed ? 'block' : 'none';\n",
              "    })();\n",
              "  </script>\n",
              "</div>\n",
              "\n",
              "    </div>\n",
              "  </div>\n"
            ],
            "application/vnd.google.colaboratory.intrinsic+json": {
              "type": "dataframe",
              "summary": "{\n  \"name\": \"# Keterangan: Setiap nilai di kolom \\\"Umur\\\" diubah menjadi kategori berdasarkan fungsi di atas\",\n  \"rows\": 5,\n  \"fields\": [\n    {\n      \"column\": \"Umur\",\n      \"properties\": {\n        \"dtype\": \"number\",\n        \"std\": 2,\n        \"min\": 23,\n        \"max\": 30,\n        \"num_unique_values\": 5,\n        \"samples\": [\n          23,\n          24,\n          30\n        ],\n        \"semantic_type\": \"\",\n        \"description\": \"\"\n      }\n    },\n    {\n      \"column\": \"Kelompok_Umur\",\n      \"properties\": {\n        \"dtype\": \"category\",\n        \"num_unique_values\": 2,\n        \"samples\": [\n          \"18-24\",\n          \"25-34\"\n        ],\n        \"semantic_type\": \"\",\n        \"description\": \"\"\n      }\n    }\n  ]\n}"
            }
          },
          "metadata": {},
          "execution_count": 85
        }
      ]
    },
    {
      "cell_type": "markdown",
      "source": [
        "# Statistik Deskriptif"
      ],
      "metadata": {
        "id": "m8WLIsqZNlyB"
      }
    },
    {
      "cell_type": "code",
      "source": [
        "# 5. Statistik Deskriptif\n",
        "# Keterangan: Menampilkan ringkasan statistik untuk data numerik dan juga data kategorikal.\n",
        "print(\"\\nStatistik Deskriptif Data Numerik:\")\n",
        "print(round(df.describe(),2))\n",
        "\n",
        "print(\"\\nStatistik Deskriptif Data Kategorikal:\")\n",
        "df.describe(include=['object'])"
      ],
      "metadata": {
        "colab": {
          "base_uri": "https://localhost:8080/",
          "height": 400
        },
        "id": "1PSjfhS4NofB",
        "outputId": "cc8c8e7f-0431-465c-b835-ec6ac5b0272b"
      },
      "execution_count": 46,
      "outputs": [
        {
          "output_type": "stream",
          "name": "stdout",
          "text": [
            "\n",
            "Statistik Deskriptif Data Numerik:\n",
            "        Umur  Tingkat_Kemampuan  Pengeluaran_Bulanan\n",
            "count  50.00              50.00                50.00\n",
            "mean   27.12               2.02           1414000.00\n",
            "std     4.38               0.82            286434.81\n",
            "min    20.00               1.00            800000.00\n",
            "25%    24.00               1.00           1225000.00\n",
            "50%    27.00               2.00           1400000.00\n",
            "75%    30.00               3.00           1600000.00\n",
            "max    39.00               3.00           2000000.00\n",
            "\n",
            "Statistik Deskriptif Data Kategorikal:\n"
          ]
        },
        {
          "output_type": "execute_result",
          "data": {
            "text/plain": [
              "        Asal_Daerah Pendidikan Informasi_Purwadhika kelas gender Kelompok_Umur\n",
              "count            50         50                   50    50     50            50\n",
              "unique            7          2                    5     2      2             3\n",
              "top     Jawa Tengah         S1            Instagram    DM   Pria         25-34\n",
              "freq             16         46                   19    30     45            31"
            ],
            "text/html": [
              "\n",
              "  <div id=\"df-637787b3-23a9-46ad-a49c-8d1e8efdfa0a\" class=\"colab-df-container\">\n",
              "    <div>\n",
              "<style scoped>\n",
              "    .dataframe tbody tr th:only-of-type {\n",
              "        vertical-align: middle;\n",
              "    }\n",
              "\n",
              "    .dataframe tbody tr th {\n",
              "        vertical-align: top;\n",
              "    }\n",
              "\n",
              "    .dataframe thead th {\n",
              "        text-align: right;\n",
              "    }\n",
              "</style>\n",
              "<table border=\"1\" class=\"dataframe\">\n",
              "  <thead>\n",
              "    <tr style=\"text-align: right;\">\n",
              "      <th></th>\n",
              "      <th>Asal_Daerah</th>\n",
              "      <th>Pendidikan</th>\n",
              "      <th>Informasi_Purwadhika</th>\n",
              "      <th>kelas</th>\n",
              "      <th>gender</th>\n",
              "      <th>Kelompok_Umur</th>\n",
              "    </tr>\n",
              "  </thead>\n",
              "  <tbody>\n",
              "    <tr>\n",
              "      <th>count</th>\n",
              "      <td>50</td>\n",
              "      <td>50</td>\n",
              "      <td>50</td>\n",
              "      <td>50</td>\n",
              "      <td>50</td>\n",
              "      <td>50</td>\n",
              "    </tr>\n",
              "    <tr>\n",
              "      <th>unique</th>\n",
              "      <td>7</td>\n",
              "      <td>2</td>\n",
              "      <td>5</td>\n",
              "      <td>2</td>\n",
              "      <td>2</td>\n",
              "      <td>3</td>\n",
              "    </tr>\n",
              "    <tr>\n",
              "      <th>top</th>\n",
              "      <td>Jawa Tengah</td>\n",
              "      <td>S1</td>\n",
              "      <td>Instagram</td>\n",
              "      <td>DM</td>\n",
              "      <td>Pria</td>\n",
              "      <td>25-34</td>\n",
              "    </tr>\n",
              "    <tr>\n",
              "      <th>freq</th>\n",
              "      <td>16</td>\n",
              "      <td>46</td>\n",
              "      <td>19</td>\n",
              "      <td>30</td>\n",
              "      <td>45</td>\n",
              "      <td>31</td>\n",
              "    </tr>\n",
              "  </tbody>\n",
              "</table>\n",
              "</div>\n",
              "    <div class=\"colab-df-buttons\">\n",
              "\n",
              "  <div class=\"colab-df-container\">\n",
              "    <button class=\"colab-df-convert\" onclick=\"convertToInteractive('df-637787b3-23a9-46ad-a49c-8d1e8efdfa0a')\"\n",
              "            title=\"Convert this dataframe to an interactive table.\"\n",
              "            style=\"display:none;\">\n",
              "\n",
              "  <svg xmlns=\"http://www.w3.org/2000/svg\" height=\"24px\" viewBox=\"0 -960 960 960\">\n",
              "    <path d=\"M120-120v-720h720v720H120Zm60-500h600v-160H180v160Zm220 220h160v-160H400v160Zm0 220h160v-160H400v160ZM180-400h160v-160H180v160Zm440 0h160v-160H620v160ZM180-180h160v-160H180v160Zm440 0h160v-160H620v160Z\"/>\n",
              "  </svg>\n",
              "    </button>\n",
              "\n",
              "  <style>\n",
              "    .colab-df-container {\n",
              "      display:flex;\n",
              "      gap: 12px;\n",
              "    }\n",
              "\n",
              "    .colab-df-convert {\n",
              "      background-color: #E8F0FE;\n",
              "      border: none;\n",
              "      border-radius: 50%;\n",
              "      cursor: pointer;\n",
              "      display: none;\n",
              "      fill: #1967D2;\n",
              "      height: 32px;\n",
              "      padding: 0 0 0 0;\n",
              "      width: 32px;\n",
              "    }\n",
              "\n",
              "    .colab-df-convert:hover {\n",
              "      background-color: #E2EBFA;\n",
              "      box-shadow: 0px 1px 2px rgba(60, 64, 67, 0.3), 0px 1px 3px 1px rgba(60, 64, 67, 0.15);\n",
              "      fill: #174EA6;\n",
              "    }\n",
              "\n",
              "    .colab-df-buttons div {\n",
              "      margin-bottom: 4px;\n",
              "    }\n",
              "\n",
              "    [theme=dark] .colab-df-convert {\n",
              "      background-color: #3B4455;\n",
              "      fill: #D2E3FC;\n",
              "    }\n",
              "\n",
              "    [theme=dark] .colab-df-convert:hover {\n",
              "      background-color: #434B5C;\n",
              "      box-shadow: 0px 1px 3px 1px rgba(0, 0, 0, 0.15);\n",
              "      filter: drop-shadow(0px 1px 2px rgba(0, 0, 0, 0.3));\n",
              "      fill: #FFFFFF;\n",
              "    }\n",
              "  </style>\n",
              "\n",
              "    <script>\n",
              "      const buttonEl =\n",
              "        document.querySelector('#df-637787b3-23a9-46ad-a49c-8d1e8efdfa0a button.colab-df-convert');\n",
              "      buttonEl.style.display =\n",
              "        google.colab.kernel.accessAllowed ? 'block' : 'none';\n",
              "\n",
              "      async function convertToInteractive(key) {\n",
              "        const element = document.querySelector('#df-637787b3-23a9-46ad-a49c-8d1e8efdfa0a');\n",
              "        const dataTable =\n",
              "          await google.colab.kernel.invokeFunction('convertToInteractive',\n",
              "                                                    [key], {});\n",
              "        if (!dataTable) return;\n",
              "\n",
              "        const docLinkHtml = 'Like what you see? Visit the ' +\n",
              "          '<a target=\"_blank\" href=https://colab.research.google.com/notebooks/data_table.ipynb>data table notebook</a>'\n",
              "          + ' to learn more about interactive tables.';\n",
              "        element.innerHTML = '';\n",
              "        dataTable['output_type'] = 'display_data';\n",
              "        await google.colab.output.renderOutput(dataTable, element);\n",
              "        const docLink = document.createElement('div');\n",
              "        docLink.innerHTML = docLinkHtml;\n",
              "        element.appendChild(docLink);\n",
              "      }\n",
              "    </script>\n",
              "  </div>\n",
              "\n",
              "\n",
              "<div id=\"df-727850e9-d1a3-4edc-bdb5-4a8820e22f5b\">\n",
              "  <button class=\"colab-df-quickchart\" onclick=\"quickchart('df-727850e9-d1a3-4edc-bdb5-4a8820e22f5b')\"\n",
              "            title=\"Suggest charts\"\n",
              "            style=\"display:none;\">\n",
              "\n",
              "<svg xmlns=\"http://www.w3.org/2000/svg\" height=\"24px\"viewBox=\"0 0 24 24\"\n",
              "     width=\"24px\">\n",
              "    <g>\n",
              "        <path d=\"M19 3H5c-1.1 0-2 .9-2 2v14c0 1.1.9 2 2 2h14c1.1 0 2-.9 2-2V5c0-1.1-.9-2-2-2zM9 17H7v-7h2v7zm4 0h-2V7h2v10zm4 0h-2v-4h2v4z\"/>\n",
              "    </g>\n",
              "</svg>\n",
              "  </button>\n",
              "\n",
              "<style>\n",
              "  .colab-df-quickchart {\n",
              "      --bg-color: #E8F0FE;\n",
              "      --fill-color: #1967D2;\n",
              "      --hover-bg-color: #E2EBFA;\n",
              "      --hover-fill-color: #174EA6;\n",
              "      --disabled-fill-color: #AAA;\n",
              "      --disabled-bg-color: #DDD;\n",
              "  }\n",
              "\n",
              "  [theme=dark] .colab-df-quickchart {\n",
              "      --bg-color: #3B4455;\n",
              "      --fill-color: #D2E3FC;\n",
              "      --hover-bg-color: #434B5C;\n",
              "      --hover-fill-color: #FFFFFF;\n",
              "      --disabled-bg-color: #3B4455;\n",
              "      --disabled-fill-color: #666;\n",
              "  }\n",
              "\n",
              "  .colab-df-quickchart {\n",
              "    background-color: var(--bg-color);\n",
              "    border: none;\n",
              "    border-radius: 50%;\n",
              "    cursor: pointer;\n",
              "    display: none;\n",
              "    fill: var(--fill-color);\n",
              "    height: 32px;\n",
              "    padding: 0;\n",
              "    width: 32px;\n",
              "  }\n",
              "\n",
              "  .colab-df-quickchart:hover {\n",
              "    background-color: var(--hover-bg-color);\n",
              "    box-shadow: 0 1px 2px rgba(60, 64, 67, 0.3), 0 1px 3px 1px rgba(60, 64, 67, 0.15);\n",
              "    fill: var(--button-hover-fill-color);\n",
              "  }\n",
              "\n",
              "  .colab-df-quickchart-complete:disabled,\n",
              "  .colab-df-quickchart-complete:disabled:hover {\n",
              "    background-color: var(--disabled-bg-color);\n",
              "    fill: var(--disabled-fill-color);\n",
              "    box-shadow: none;\n",
              "  }\n",
              "\n",
              "  .colab-df-spinner {\n",
              "    border: 2px solid var(--fill-color);\n",
              "    border-color: transparent;\n",
              "    border-bottom-color: var(--fill-color);\n",
              "    animation:\n",
              "      spin 1s steps(1) infinite;\n",
              "  }\n",
              "\n",
              "  @keyframes spin {\n",
              "    0% {\n",
              "      border-color: transparent;\n",
              "      border-bottom-color: var(--fill-color);\n",
              "      border-left-color: var(--fill-color);\n",
              "    }\n",
              "    20% {\n",
              "      border-color: transparent;\n",
              "      border-left-color: var(--fill-color);\n",
              "      border-top-color: var(--fill-color);\n",
              "    }\n",
              "    30% {\n",
              "      border-color: transparent;\n",
              "      border-left-color: var(--fill-color);\n",
              "      border-top-color: var(--fill-color);\n",
              "      border-right-color: var(--fill-color);\n",
              "    }\n",
              "    40% {\n",
              "      border-color: transparent;\n",
              "      border-right-color: var(--fill-color);\n",
              "      border-top-color: var(--fill-color);\n",
              "    }\n",
              "    60% {\n",
              "      border-color: transparent;\n",
              "      border-right-color: var(--fill-color);\n",
              "    }\n",
              "    80% {\n",
              "      border-color: transparent;\n",
              "      border-right-color: var(--fill-color);\n",
              "      border-bottom-color: var(--fill-color);\n",
              "    }\n",
              "    90% {\n",
              "      border-color: transparent;\n",
              "      border-bottom-color: var(--fill-color);\n",
              "    }\n",
              "  }\n",
              "</style>\n",
              "\n",
              "  <script>\n",
              "    async function quickchart(key) {\n",
              "      const quickchartButtonEl =\n",
              "        document.querySelector('#' + key + ' button');\n",
              "      quickchartButtonEl.disabled = true;  // To prevent multiple clicks.\n",
              "      quickchartButtonEl.classList.add('colab-df-spinner');\n",
              "      try {\n",
              "        const charts = await google.colab.kernel.invokeFunction(\n",
              "            'suggestCharts', [key], {});\n",
              "      } catch (error) {\n",
              "        console.error('Error during call to suggestCharts:', error);\n",
              "      }\n",
              "      quickchartButtonEl.classList.remove('colab-df-spinner');\n",
              "      quickchartButtonEl.classList.add('colab-df-quickchart-complete');\n",
              "    }\n",
              "    (() => {\n",
              "      let quickchartButtonEl =\n",
              "        document.querySelector('#df-727850e9-d1a3-4edc-bdb5-4a8820e22f5b button');\n",
              "      quickchartButtonEl.style.display =\n",
              "        google.colab.kernel.accessAllowed ? 'block' : 'none';\n",
              "    })();\n",
              "  </script>\n",
              "</div>\n",
              "\n",
              "    </div>\n",
              "  </div>\n"
            ],
            "application/vnd.google.colaboratory.intrinsic+json": {
              "type": "dataframe",
              "summary": "{\n  \"name\": \"df\",\n  \"rows\": 4,\n  \"fields\": [\n    {\n      \"column\": \"Asal_Daerah\",\n      \"properties\": {\n        \"dtype\": \"string\",\n        \"num_unique_values\": 4,\n        \"samples\": [\n          7,\n          \"16\",\n          \"50\"\n        ],\n        \"semantic_type\": \"\",\n        \"description\": \"\"\n      }\n    },\n    {\n      \"column\": \"Pendidikan\",\n      \"properties\": {\n        \"dtype\": \"string\",\n        \"num_unique_values\": 4,\n        \"samples\": [\n          2,\n          \"46\",\n          \"50\"\n        ],\n        \"semantic_type\": \"\",\n        \"description\": \"\"\n      }\n    },\n    {\n      \"column\": \"Informasi_Purwadhika\",\n      \"properties\": {\n        \"dtype\": \"string\",\n        \"num_unique_values\": 4,\n        \"samples\": [\n          5,\n          \"19\",\n          \"50\"\n        ],\n        \"semantic_type\": \"\",\n        \"description\": \"\"\n      }\n    },\n    {\n      \"column\": \"kelas\",\n      \"properties\": {\n        \"dtype\": \"string\",\n        \"num_unique_values\": 4,\n        \"samples\": [\n          2,\n          \"30\",\n          \"50\"\n        ],\n        \"semantic_type\": \"\",\n        \"description\": \"\"\n      }\n    },\n    {\n      \"column\": \"gender\",\n      \"properties\": {\n        \"dtype\": \"string\",\n        \"num_unique_values\": 4,\n        \"samples\": [\n          2,\n          \"45\",\n          \"50\"\n        ],\n        \"semantic_type\": \"\",\n        \"description\": \"\"\n      }\n    },\n    {\n      \"column\": \"Kelompok_Umur\",\n      \"properties\": {\n        \"dtype\": \"string\",\n        \"num_unique_values\": 4,\n        \"samples\": [\n          3,\n          \"31\",\n          \"50\"\n        ],\n        \"semantic_type\": \"\",\n        \"description\": \"\"\n      }\n    }\n  ]\n}"
            }
          },
          "metadata": {},
          "execution_count": 46
        }
      ]
    },
    {
      "cell_type": "markdown",
      "source": [
        "# Visualisasi"
      ],
      "metadata": {
        "id": "BTFAhYt-PX_g"
      }
    },
    {
      "cell_type": "markdown",
      "source": [
        "## Visualisasi Histplot Pengeluaran Bulanan"
      ],
      "metadata": {
        "id": "QH1UoVdBPGcY"
      }
    },
    {
      "cell_type": "code",
      "source": [
        "# 6. Visualisasi Histplot Pengeluaran Bulanan\n",
        "# Keterangan: Membuat histogram untuk melihat sebaran pengeluaran bulanan, dilengkapi dengan kurva kepadatan (KDE).\n",
        "plt.figure(figsize=(8,5))\n",
        "sns.histplot(df[\"Pengeluaran_Bulanan\"], bins=30, kde=True, color='red')\n",
        "plt.title(\"Distribusi Pengeluaran Bulanan\")\n",
        "plt.xlabel(\"Pengeluaran Bulanan\")\n",
        "plt.ylabel(\"Frekuensi\")\n",
        "plt.show()"
      ],
      "metadata": {
        "colab": {
          "base_uri": "https://localhost:8080/",
          "height": 487
        },
        "id": "bmKaYxC4PJ09",
        "outputId": "f8b5c5c8-2a84-4c84-9c0a-33c26b074f31"
      },
      "execution_count": 49,
      "outputs": [
        {
          "output_type": "display_data",
          "data": {
            "text/plain": [
              "<Figure size 800x500 with 1 Axes>"
            ],
            "image/png": "[encoded data removed]"
          },
          "metadata": {}
        }
      ]
    },
    {
      "cell_type": "markdown",
      "source": [
        "## Visualisasi Boxplot Pengeluaran Bulanan"
      ],
      "metadata": {
        "id": "fxy7kY4MPV3Y"
      }
    },
    {
      "cell_type": "code",
      "source": [
        "# 7. Visualisasi Boxplot Pengeluaran Bulanan\n",
        "# Keterangan: Menampilkan boxplot untuk mengidentifikasi sebaran, median, dan outlier dari pengeluaran bulanan.\n",
        "plt.figure(figsize=(8,5))\n",
        "sns.boxplot(x=df[\"Pengeluaran_Bulanan\"], color='red')\n",
        "plt.title(\"Boxplot Pengeluaran Bulanan\")\n",
        "plt.xlabel(\"Pengeluaran Bulanan\")\n",
        "plt.show()"
      ],
      "metadata": {
        "colab": {
          "base_uri": "https://localhost:8080/",
          "height": 487
        },
        "id": "WftIebS4PhUL",
        "outputId": "b0e0e213-547a-4d50-e61b-794b26916104"
      },
      "execution_count": 48,
      "outputs": [
        {
          "output_type": "display_data",
          "data": {
            "text/plain": [
              "<Figure size 800x500 with 1 Axes>"
            ],
            "image/png": "[encoded data removed]"
          },
          "metadata": {}
        }
      ]
    },
    {
      "cell_type": "markdown",
      "source": [
        "## Visualisasi Barplot Rata-rata Pengeluaran Bulanan per Kelompok Usia"
      ],
      "metadata": {
        "id": "rOXjm1CvPq5v"
      }
    },
    {
      "cell_type": "code",
      "source": [
        "# 8. Visualisasi Bar Plot Rata-rata Pengeluaran Bulanan per Kelompok Usia\n",
        "# Keterangan: Membuat bar plot untuk membandingkan rata-rata pengeluaran bulanan antar kelompok usia.\n",
        "plt.figure(figsize=(10,6))\n",
        "sns.barplot(data=df, hue=\"Kelompok_Umur\", y=\"Pengeluaran_Bulanan\", estimator=np.mean, errorbar=None, palette=\"viridis\")\n",
        "plt.xticks(rotation=45)\n",
        "plt.title(\"Rata-rata Pengeluaran Bulanan per Kelompok Usia\")\n",
        "plt.xlabel(\"Kelompok_Umur\")\n",
        "plt.ylabel(\"Rata-rata Pengeluaran Bulanan\")\n",
        "plt.show()"
      ],
      "metadata": {
        "colab": {
          "base_uri": "https://localhost:8080/",
          "height": 550
        },
        "id": "cO_9js2iP3mr",
        "outputId": "c4db9cb9-ceb2-435f-8080-71d3b7120a6d"
      },
      "execution_count": 54,
      "outputs": [
        {
          "output_type": "display_data",
          "data": {
            "text/plain": [
              "<Figure size 1000x600 with 1 Axes>"
            ],
            "image/png": "[encoded data removed]"
          },
          "metadata": {}
        }
      ]
    },
    {
      "cell_type": "markdown",
      "source": [
        "## Visualisasi Countplot Distribusi Kelompok Usia dalam Kelas"
      ],
      "metadata": {
        "id": "AfJDcMD0VY__"
      }
    },
    {
      "cell_type": "code",
      "source": [
        "# 15. Visualisasi Countplot Distribusi Kelompok Usia dalam Kelas\n",
        "# Keterangan: Menampilkan jumlah siswa di masing-masing kelas dengan perincian berdasarkan kelompok usia.\n",
        "plt.figure(figsize=(12,6))\n",
        "sns.countplot(data=df, x=\"kelas\", hue=\"Kelompok_Umur\", palette=\"coolwarm\")\n",
        "plt.title(\"Distribusi Kelompok Usia dalam Kelas\")\n",
        "plt.xlabel(\"Kelas\")\n",
        "plt.ylabel(\"Jumlah Peserta\")\n",
        "plt.legend(title=\"Kelompok_Umur\")\n",
        "plt.xticks(rotation=45)\n",
        "plt.show()"
      ],
      "metadata": {
        "colab": {
          "base_uri": "https://localhost:8080/",
          "height": 577
        },
        "id": "KJcveGVnVcB0",
        "outputId": "67faa4ad-94a2-43ab-90ba-d2dff629b9c1"
      },
      "execution_count": 62,
      "outputs": [
        {
          "output_type": "display_data",
          "data": {
            "text/plain": [
              "<Figure size 1200x600 with 1 Axes>"
            ],
            "image/png": "[encoded data removed]"
          },
          "metadata": {}
        }
      ]
    },
    {
      "cell_type": "markdown",
      "source": [
        "# Uji Normalitas"
      ],
      "metadata": {
        "id": "xUBCtfbFQ51D"
      }
    },
    {
      "cell_type": "markdown",
      "source": [
        "## Uji Shapiro-Wilk"
      ],
      "metadata": {
        "id": "X5Xxev2hQ7td"
      }
    },
    {
      "cell_type": "code",
      "source": [
        "# 9. Uji Normalitas (Shapiro-Wilk) untuk Pengeluaran Bulanan\n",
        "# Keterangan: Uji ini menentukan apakah data pengeluaran bulanan berdistribusi normal.\n",
        "statis, p_value = stats.shapiro(df[\"Pengeluaran_Bulanan\"].dropna())\n",
        "print(\"\\nUji Normalitas (Shapiro-Wilk) untuk Pengeluaran Bulanan:\")\n",
        "print(f\"Statistik: {statis}, p-value: {p_value}\")\n",
        "\n",
        "if p_value > 0.05:\n",
        "    print(\"Hipotesis nol diterima: Data berdistribusi normal.\")\n",
        "else:\n",
        "    print(\"Hipotesis nol ditolak: Data tidak berdistribusi normal.\")"
      ],
      "metadata": {
        "colab": {
          "base_uri": "https://localhost:8080/"
        },
        "id": "8srDysIkQ9vG",
        "outputId": "628e73f2-82af-4aef-99e2-a61003a380fa"
      },
      "execution_count": 55,
      "outputs": [
        {
          "output_type": "stream",
          "name": "stdout",
          "text": [
            "\n",
            "Uji Normalitas (Shapiro-Wilk) untuk Pengeluaran Bulanan:\n",
            "Statistik: 0.9703977545563616, p-value: 0.24021278225444082\n",
            "Hipotesis nol diterima: Data berdistribusi normal.\n"
          ]
        }
      ]
    },
    {
      "cell_type": "markdown",
      "source": [
        "## Uji Kolmogorov-Smirnov"
      ],
      "metadata": {
        "id": "2MVLXHZ2RVtq"
      }
    },
    {
      "cell_type": "code",
      "source": [
        "# 10. Uji Kolmogorov-Smirnov untuk Pengeluaran Bulanan\n",
        "# Keterangan: Uji ini membandingkan distribusi data dengan distribusi normal sebagai uji tambahan.\n",
        "statis, p_value = stats.kstest(df[\"Pengeluaran_Bulanan\"].dropna(), 'norm')\n",
        "print(\"\\nUji Kolmogorov-Smirnov untuk Pengeluaran Bulanan:\")\n",
        "print(f\"Statistik: {statis}, p-value: {p_value}\")\n",
        "\n",
        "if p_value > 0.05:\n",
        "    print(\"Hipotesis nol diterima: Data mengikuti distribusi normal.\")\n",
        "else:\n",
        "    print(\"Hipotesis nol ditolak: Data tidak mengikuti distribusi normal.\")"
      ],
      "metadata": {
        "colab": {
          "base_uri": "https://localhost:8080/"
        },
        "id": "-KD6xMZbReh3",
        "outputId": "cb6bbc1c-2405-48c1-ef04-1fd6b8331912"
      },
      "execution_count": 56,
      "outputs": [
        {
          "output_type": "stream",
          "name": "stdout",
          "text": [
            "\n",
            "Uji Kolmogorov-Smirnov untuk Pengeluaran Bulanan:\n",
            "Statistik: 1.0, p-value: 0.0\n",
            "Hipotesis nol ditolak: Data tidak mengikuti distribusi normal.\n"
          ]
        }
      ]
    },
    {
      "cell_type": "markdown",
      "source": [
        "## Uji D'Agostino"
      ],
      "metadata": {
        "id": "2s-DQNt9SpUL"
      }
    },
    {
      "cell_type": "code",
      "source": [
        "# Uji Normalitas D'Agostino-Pearson untuk Pengeluaran Bulanan\n",
        "# Keterangan: Uji ini menggabungkan skewness dan kurtosis untuk menguji normalitas.\n",
        "stat_dagostino, p_value_dagostino = stats.normaltest(df[\"Pengeluaran_Bulanan\"].dropna())\n",
        "print(\"\\nUji Normalitas D'Agostino-Pearson untuk Pengeluaran Bulanan:\")\n",
        "print(f\"Statistik: {stat_dagostino}, p-value: {p_value_dagostino}\")\n",
        "\n",
        "if p_value_dagostino > 0.05:\n",
        "    print(\"Hipotesis nol diterima: Data berdistribusi normal.\")\n",
        "else:\n",
        "    print(\"Hipotesis nol ditolak: Data tidak berdistribusi normal.\")"
      ],
      "metadata": {
        "colab": {
          "base_uri": "https://localhost:8080/"
        },
        "id": "eILy3FxCSsoY",
        "outputId": "0bd7d3a9-244f-4b27-f806-903cad6a6d59"
      },
      "execution_count": 57,
      "outputs": [
        {
          "output_type": "stream",
          "name": "stdout",
          "text": [
            "\n",
            "Uji Normalitas D'Agostino-Pearson untuk Pengeluaran Bulanan:\n",
            "Statistik: 0.07688894492896776, p-value: 0.9622851365784326\n",
            "Hipotesis nol diterima: Data berdistribusi normal.\n"
          ]
        }
      ]
    },
    {
      "cell_type": "markdown",
      "source": [
        "# Uji Non-Parametrik"
      ],
      "metadata": {
        "id": "MpRdHj4xTeN2"
      }
    },
    {
      "cell_type": "markdown",
      "source": [
        "## Uji Mann-Whitney U"
      ],
      "metadata": {
        "id": "yMLeKj2OTkJN"
      }
    },
    {
      "cell_type": "code",
      "source": [
        "# 11. Uji Mann-Whitney U antara Kelompok 18-24 dan 25-34\n",
        "# Keterangan: Uji non-parametrik untuk membandingkan dua kelompok usia pada pengeluaran bulanan.\n",
        "kelompok1 = df[df[\"Kelompok_Umur\"] == \"18-24\"][\"Pengeluaran_Bulanan\"]\n",
        "kelompok2 = df[df[\"Kelompok_Umur\"] == \"25-34\"][\"Pengeluaran_Bulanan\"]\n",
        "mann_whitney_stat, mann_whitney_p = stats.mannwhitneyu(kelompok1, kelompok2)\n",
        "print(\"\\nUji Mann-Whitney U antara Kelompok 18-24 dan 25-34:\")\n",
        "print(f\"Statistik: {mann_whitney_stat}, p-value: {mann_whitney_p}\")\n",
        "\n",
        "if mann_whitney_p < 0.05:\n",
        "    print(\"Hipotesis nol ditolak: Terdapat perbedaan signifikan antara kedua kelompok.\")\n",
        "else:\n",
        "    print(\"Hipotesis nol diterima: Tidak terdapat perbedaan signifikan antara kedua kelompok.\")"
      ],
      "metadata": {
        "colab": {
          "base_uri": "https://localhost:8080/"
        },
        "id": "nTEatK5sTpXH",
        "outputId": "b086d3b8-80a8-4bd2-e507-29f7c37d14ca"
      },
      "execution_count": 58,
      "outputs": [
        {
          "output_type": "stream",
          "name": "stdout",
          "text": [
            "\n",
            "Uji Mann-Whitney U antara Kelompok 18-24 dan 25-34:\n",
            "Statistik: 277.0, p-value: 0.7775873952514549\n",
            "Hipotesis nol diterima: Tidak terdapat perbedaan signifikan antara kedua kelompok.\n"
          ]
        }
      ]
    },
    {
      "cell_type": "markdown",
      "source": [
        "## Uji Chi-Square"
      ],
      "metadata": {
        "id": "0ADl-06sT1_J"
      }
    },
    {
      "cell_type": "code",
      "source": [
        "# 12. Uji Chi-Square antara Kelompok Usia dan Kelas\n",
        "# Keterangan: Uji ini menguji apakah terdapat hubungan antara kategori usia dan pilihan kelas.\n",
        "contingency_table = pd.crosstab(df[\"Kelompok_Umur\"], df[\"kelas\"])\n",
        "chi2, p, _, _ = stats.chi2_contingency(contingency_table)\n",
        "print(\"\\nUji Chi-Square antara Kelompok Usia dan Kelas:\")\n",
        "print(f\"Chi2: {chi2}, p-value: {p}\")\n",
        "\n",
        "if p < 0.05:\n",
        "    print(\"Hipotesis nol ditolak: Ada hubungan antara kelompok usia dan pemilihan kelas.\")\n",
        "else:\n",
        "    print(\"Hipotesis nol diterima: Tidak ada hubungan antara kelompok usia dan pemilihan kelas.\")\n"
      ],
      "metadata": {
        "colab": {
          "base_uri": "https://localhost:8080/"
        },
        "id": "vp-552YsT-F6",
        "outputId": "7e4a652e-2373-4901-98a0-cfcd77a8b8bb"
      },
      "execution_count": 59,
      "outputs": [
        {
          "output_type": "stream",
          "name": "stdout",
          "text": [
            "\n",
            "Uji Chi-Square antara Kelompok Usia dan Kelas:\n",
            "Chi2: 8.111954459203035, p-value: 0.017318547713877107\n",
            "Hipotesis nol ditolak: Ada hubungan antara kelompok usia dan pemilihan kelas.\n"
          ]
        }
      ]
    },
    {
      "cell_type": "markdown",
      "source": [
        "## Uji Kruskal-Wallis"
      ],
      "metadata": {
        "id": "ucd49kv_U5ZO"
      }
    },
    {
      "cell_type": "code",
      "source": [
        "# 17. Uji Kruskal-Wallis untuk Pengeluaran Bulanan berdasarkan Kelompok Usia\n",
        "# Keterangan: Uji non-parametrik sebagai alternatif jika data tidak normal, membandingkan peringkat antar kelompok.\n",
        "kruskal_stat, kruskal_p = kruskal(*kelompok_data)\n",
        "print(\"\\nUji Kruskal-Wallis untuk Pengeluaran Bulanan berdasarkan Kelompok Usia:\")\n",
        "print(f\"Statistik: {kruskal_stat}, p-value: {kruskal_p}\")\n",
        "\n",
        "if kruskal_p < 0.05:\n",
        "    print(\"Hipotesis nol ditolak: Ada perbedaan signifikan dalam pengeluaran bulanan antar kelompok usia.\")\n",
        "else:\n",
        "    print(\"Hipotesis nol diterima: Tidak ada perbedaan signifikan dalam pengeluaran bulanan antar kelompok usia.\")"
      ],
      "metadata": {
        "colab": {
          "base_uri": "https://localhost:8080/"
        },
        "id": "dbW2SqY_U7sN",
        "outputId": "4b55ae77-1736-4923-aaf7-b4f7cef61e57"
      },
      "execution_count": 61,
      "outputs": [
        {
          "output_type": "stream",
          "name": "stdout",
          "text": [
            "\n",
            "Uji Kruskal-Wallis untuk Pengeluaran Bulanan berdasarkan Kelompok Usia:\n",
            "Statistik: 2.2382272972054498, p-value: 0.3265691213785515\n",
            "Hipotesis nol diterima: Tidak ada perbedaan signifikan dalam pengeluaran bulanan antar kelompok usia.\n"
          ]
        }
      ]
    },
    {
      "cell_type": "markdown",
      "source": [
        "# Uji Parametrik"
      ],
      "metadata": {
        "id": "fZgqr9LOWYqQ"
      }
    },
    {
      "cell_type": "markdown",
      "source": [
        "## Uji t-Test"
      ],
      "metadata": {
        "id": "SHLpzeVmWjtn"
      }
    },
    {
      "cell_type": "code",
      "source": [
        "# Uji t-Test (Independent t-Test) untuk membandingkan pengeluaran bulanan antara dua kelompok usia (18-24 vs 25-34)\n",
        "t_stat, t_p = stats.ttest_ind(\n",
        "    df[df[\"Kelompok_Umur\"] == \"18-24\"][\"Pengeluaran_Bulanan\"],\n",
        "    df[df[\"Kelompok_Umur\"] == \"25-34\"][\"Pengeluaran_Bulanan\"],\n",
        "    equal_var=False  # Gunakan False jika varians kedua kelompok tidak homogen\n",
        ")\n",
        "print(\"\\nUji t-Test antara Kelompok 18-24 dan 25-34:\")\n",
        "print(f\"Statistik t: {t_stat}, p-value: {t_p}\")\n",
        "\n",
        "if t_p < 0.05:\n",
        "    print(\"Hipotesis nol ditolak: Terdapat perbedaan signifikan antara kedua kelompok.\")\n",
        "else:\n",
        "    print(\"Hipotesis nol diterima: Tidak terdapat perbedaan signifikan antara kedua kelompok.\")"
      ],
      "metadata": {
        "colab": {
          "base_uri": "https://localhost:8080/"
        },
        "id": "ifR48LVNWbLb",
        "outputId": "7ad1a01e-2153-4918-d4ec-23ebec253332"
      },
      "execution_count": 63,
      "outputs": [
        {
          "output_type": "stream",
          "name": "stdout",
          "text": [
            "\n",
            "Uji t-Test antara Kelompok 18-24 dan 25-34:\n",
            "Statistik t: 0.07658866919468318, p-value: 0.9394455279228588\n",
            "Hipotesis nol diterima: Tidak terdapat perbedaan signifikan antara kedua kelompok.\n"
          ]
        }
      ]
    },
    {
      "cell_type": "markdown",
      "source": [
        "## Uji ANOVA"
      ],
      "metadata": {
        "id": "k86ETuNZWvwp"
      }
    },
    {
      "cell_type": "code",
      "source": [
        "# 16. Uji One-Way ANOVA untuk Pengeluaran Bulanan berdasarkan Kelompok Usia\n",
        "# Keterangan: Menguji apakah terdapat perbedaan rata-rata pengeluaran bulanan di antara berbagai kelompok usia.\n",
        "kelompok_data = [df[df[\"Kelompok_Umur\"] == k][\"Pengeluaran_Bulanan\"] for k in df[\"Kelompok_Umur\"].unique()]\n",
        "anova_stat, anova_p = f_oneway(*kelompok_data)\n",
        "print(\"\\nUji One-Way ANOVA untuk Pengeluaran Bulanan berdasarkan Kelompok Usia:\")\n",
        "print(f\"Statistik: {anova_stat}, p-value: {anova_p}\")\n",
        "\n",
        "if anova_p < 0.05:\n",
        "    print(\"Hipotesis nol ditolak: Ada perbedaan signifikan dalam pengeluaran bulanan antar kelompok usia.\")\n",
        "else:\n",
        "    print(\"Hipotesis nol diterima: Tidak ada perbedaan signifikan dalam pengeluaran bulanan antar kelompok usia.\")"
      ],
      "metadata": {
        "colab": {
          "base_uri": "https://localhost:8080/"
        },
        "id": "CdTzlFY0Wxbh",
        "outputId": "b28f1dc8-fd1c-4bff-e8d0-cca92a60315f"
      },
      "execution_count": 64,
      "outputs": [
        {
          "output_type": "stream",
          "name": "stdout",
          "text": [
            "\n",
            "Uji One-Way ANOVA untuk Pengeluaran Bulanan berdasarkan Kelompok Usia:\n",
            "Statistik: 0.8837916502396105, p-value: 0.41996746958812026\n",
            "Hipotesis nol diterima: Tidak ada perbedaan signifikan dalam pengeluaran bulanan antar kelompok usia.\n"
          ]
        }
      ]
    },
    {
      "cell_type": "markdown",
      "source": [
        "# Uji Korelasi"
      ],
      "metadata": {
        "id": "tUkMMRMOW_Uq"
      }
    },
    {
      "cell_type": "markdown",
      "source": [
        "## Uji Korelasi Pearson"
      ],
      "metadata": {
        "id": "JfnkHR6_XBhO"
      }
    },
    {
      "cell_type": "code",
      "source": [
        "# 13. Uji Korelasi Pearson antara Umur dan Pengeluaran Bulanan\n",
        "# Keterangan: Mengukur kekuatan hubungan linier antara usia dan pengeluaran bulanan.\n",
        "pearson_corr, pearson_p = stats.pearsonr(df[\"Umur\"], df[\"Pengeluaran_Bulanan\"])\n",
        "print(\"\\nUji Korelasi Pearson antara Umur dan Pengeluaran Bulanan:\")\n",
        "print(f\"Korelasi: {pearson_corr}, p-value: {pearson_p}\")\n",
        "\n",
        "if pearson_p < 0.05:\n",
        "    print(\"Hipotesis nol ditolak: Ada hubungan signifikan antara umur dan pengeluaran bulanan.\")\n",
        "else:\n",
        "    print(\"Hipotesis nol diterima: Tidak ada hubungan signifikan antara umur dan pengeluaran bulanan.\")"
      ],
      "metadata": {
        "colab": {
          "base_uri": "https://localhost:8080/"
        },
        "id": "t9YMaBaZzlJ4",
        "outputId": "11600884-33ca-42ed-c93a-43ed5a0d6dc2"
      },
      "execution_count": 67,
      "outputs": [
        {
          "output_type": "stream",
          "name": "stdout",
          "text": [
            "\n",
            "Uji Korelasi Pearson antara Umur dan Pengeluaran Bulanan:\n",
            "Korelasi: -0.11202617158370333, p-value: 0.43860451967559133\n",
            "Hipotesis nol diterima: Tidak ada hubungan signifikan antara umur dan pengeluaran bulanan.\n"
          ]
        }
      ]
    },
    {
      "cell_type": "markdown",
      "source": [
        "## Uji Korelasi Spearman"
      ],
      "metadata": {
        "id": "eC1bOeMyXTeK"
      }
    },
    {
      "cell_type": "code",
      "source": [
        "# 14. Uji Korelasi Spearman antara Umur dan Pengeluaran Bulanan\n",
        "# Keterangan: Mengukur hubungan monotonic antara usia dan pengeluaran bulanan (alternatif non-parametrik).\n",
        "spearman_corr, spearman_p = stats.spearmanr(df[\"Umur\"], df[\"Pengeluaran_Bulanan\"])\n",
        "print(\"\\nUji Korelasi Spearman antara Umur dan Pengeluaran Bulanan:\")\n",
        "print(f\"Korelasi: {spearman_corr}, p-value: {spearman_p}\")\n",
        "\n",
        "if spearman_p < 0.05:\n",
        "    print(\"Hipotesis nol ditolak: Ada hubungan signifikan antara umur dan pengeluaran bulanan.\")\n",
        "else:\n",
        "    print(\"Hipotesis nol diterima: Tidak ada hubungan signifikan antara umur dan pengeluaran bulanan.\")"
      ],
      "metadata": {
        "colab": {
          "base_uri": "https://localhost:8080/"
        },
        "id": "SlYTRb4L1qQQ",
        "outputId": "cf865078-8cd8-4457-b96a-f077952edb62"
      },
      "execution_count": 68,
      "outputs": [
        {
          "output_type": "stream",
          "name": "stdout",
          "text": [
            "\n",
            "Uji Korelasi Spearman antara Umur dan Pengeluaran Bulanan:\n",
            "Korelasi: -0.09491249631550529, p-value: 0.5120555168773797\n",
            "Hipotesis nol diterima: Tidak ada hubungan signifikan antara umur dan pengeluaran bulanan.\n"
          ]
        }
      ]
    },
    {
      "cell_type": "markdown",
      "source": [
        "# Uji Perbedaan Proporsi"
      ],
      "metadata": {
        "id": "7hs-aQQKZchB"
      }
    },
    {
      "cell_type": "code",
      "source": [
        "# 19. Uji Perbedaan Proporsi antara Kelompok 18-24 dan 25-34 untuk Kelas \"Reguler\"\n",
        "# Menghitung jumlah siswa yang memilih kelas \"Reguler\" pada masing-masing kelompok usia.\n",
        "jumlah_18_24 = df[(df[\"Kelompok_Umur\"] == \"18-24\") & (df[\"kelas\"] == \"Reguler\")].shape[0]\n",
        "total_18_24 = df[df[\"Kelompok_Umur\"] == \"18-24\"].shape[0]\n",
        "jumlah_25_34 = df[(df[\"Kelompok_Umur\"] == \"25-34\") & (df[\"kelas\"] == \"Reguler\")].shape[0]\n",
        "total_25_34 = df[df[\"Kelompok_Umur\"] == \"25-34\"].shape[0]\n",
        "\n",
        "# Menyusun array jumlah kasus dan total sampel untuk kedua kelompok\n",
        "jumlah_kasus = np.array([jumlah_18_24, jumlah_25_34])\n",
        "total_sampel = np.array([total_18_24, total_25_34])\n",
        "\n",
        "# Melakukan uji z untuk dua proporsi\n",
        "stat_z, p_z = proportions_ztest(jumlah_kasus, total_sampel)\n",
        "print(\"\\nUji Perbedaan Proporsi antara Kelompok 18-24 dan 25-34 untuk kelas 'Reguler':\")\n",
        "print(f\"Statistik Z: {stat_z:.3f}, p-value: {p_z:.3f}\")\n",
        "\n",
        "if p_z < 0.05:\n",
        "    print(\"Hipotesis nol ditolak: Terdapat perbedaan proporsi yang signifikan antara kedua kelompok.\")\n",
        "else:\n",
        "    print(\"Hipotesis nol diterima: Tidak terdapat perbedaan proporsi yang signifikan antara kedua kelompok.\")"
      ],
      "metadata": {
        "colab": {
          "base_uri": "https://localhost:8080/"
        },
        "id": "LT_rHR9ZXOHB",
        "outputId": "665c9398-6a37-4f93-c8b4-b0a14806657e"
      },
      "execution_count": 72,
      "outputs": [
        {
          "output_type": "stream",
          "name": "stdout",
          "text": [
            "\n",
            "Uji Perbedaan Proporsi antara Kelompok 18-24 dan 25-34 untuk kelas 'Reguler':\n",
            "Statistik Z: nan, p-value: nan\n",
            "Hipotesis nol diterima: Tidak terdapat perbedaan proporsi yang signifikan antara kedua kelompok.\n"
          ]
        },
        {
          "output_type": "stream",
          "name": "stderr",
          "text": [
            "/usr/local/lib/python3.11/dist-packages/statsmodels/stats/weightstats.py:792: RuntimeWarning: invalid value encountered in scalar divide\n",
            "  zstat = value / std\n"
          ]
        }
      ]
    },
    {
      "cell_type": "code",
      "source": [],
      "metadata": {
        "id": "6sIAO0qcZhNn"
      },
      "execution_count": null,
      "outputs": []
    }
  ]
}